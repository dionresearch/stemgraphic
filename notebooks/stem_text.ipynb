{
 "cells": [
  {
   "cell_type": "markdown",
   "metadata": {},
   "source": [
    "# Stem Text from words"
   ]
  },
  {
   "cell_type": "code",
   "execution_count": 1,
   "metadata": {},
   "outputs": [],
   "source": [
    "%matplotlib inline\n",
    "from stemgraphic.alpha import stem_text\n",
    "from stemgraphic.stopwords import VOWELS, EN"
   ]
  },
  {
   "cell_type": "code",
   "execution_count": 2,
   "metadata": {},
   "outputs": [],
   "source": [
    "source = '../datasets/A Case of Identity by Arthur Conan Doyle.txt'"
   ]
  },
  {
   "cell_type": "code",
   "execution_count": 3,
   "metadata": {},
   "outputs": [
    {
     "name": "stdout",
     "output_type": "stream",
     "text": [
      "['a', 'e', 'i', 'o', 'u']: \n",
      "count     250\n",
      "unique     75\n",
      "top       and\n",
      "freq       35\n",
      "Name: word, dtype: object\n",
      "sampled  250\n",
      "\n",
      "e| afiilnnnvvxxy\n",
      "u| nnnppppppppppsss\n",
      "i| ffmnnnnnnnnnnnnnnnnnnnnnnnnnsssssssssstttttttttt\n",
      "o| bbbbfffffffffffffffffffffffffffnnnnnnnnnnnrrtttuuuuuuvvvww\n",
      "a|                          bbbbccdddfffllllmnnnnnnnnnnnnnnnnnnnnnnnnnnnnnnnnnnnnnnnnnnnnnrrrsssssssssssssssstttttttww\n"
     ]
    }
   ],
   "source": [
    "stem_text(source, column=VOWELS, display=250);"
   ]
  },
  {
   "cell_type": "code",
   "execution_count": 4,
   "metadata": {},
   "outputs": [
    {
     "name": "stdout",
     "output_type": "stream",
     "text": [
      "z| e\n",
      "j| ouuuu\n",
      "q| uuuuuu\n",
      "n| aeeeeo\n",
      "y| eeeeeee\n",
      "v| aaaeeeiiooo\n",
      "k| eeeeiinnnnn\n",
      "u| nnnnnnnnnnnnnsss\n",
      "o| bbbbbcffhhhhilpp’\n",
      "e|  aaaafllmmnnnnstxxxy\n",
      "g| aaeeeelllllooooooorrrr\n",
      "r| aaeeeeeeeeeeeeeeiiiiioo\n",
      "i| dmmmmnnnnnnnnnnnnnnnnnst\n",
      "p| aaaaaeeeilllloooooooorrrrrruuu\n",
      "b| aaaeeeeeeiillllooorrrrrrrruuuuu\n",
      "a| cdddfffillmnnnnnnnnnnrrrssssssssvw\n",
      "l| aaaeeeeeeiiiiiiiiiiiiiiiiiioooooooooy\n",
      "f| aaaaaaaaaaaaaaaaaaaeeeiiiiooooorrrrruu\n",
      "d| aaaaaaeeeeeeeeeeeeiiiiiiiioooooooorrrru\n",
      "t| aaaaaaeeeehhhhhhhhhhhhhhiiiiiiooooorrrrrrrrruwwyyy\n",
      "w| aaaaaaaaaaeeeeeeeeehiiiiiiiiiiiiiiiiiooooooooorrrr\n",
      "m| aaaaaaaaaaaaaaaaaaaaaaaeeeeeeiiiiooooorrrrrrrrrrrrryy\n",
      "c| aaaaaaaaaaeehhhhhilllllllllooooooooooooooooooooooooooorrrrru\n",
      "h| aaaaaaaaaaaaaaaaeeeeeeeeeeeeeiiooooooooooooooooooooooooooooouuuu\n",
      "s| aaaaaaaaaaaaaaaaaaaaaaacceeeeeehhhhhhhhhhhhiiiiiiillllnoooppppptttttttttttttttttttuuuuuuuuuwww’\n"
     ]
    }
   ],
   "source": [
    "stem_text(source, caps=False, display=750, reverse=False, stop_words=EN, legend_pos=None);"
   ]
  },
  {
   "cell_type": "code",
   "execution_count": 5,
   "metadata": {},
   "outputs": [
    {
     "name": "stdout",
     "output_type": "stream",
     "text": [
      "x| o\n",
      "c| ii\n",
      "p| orsuu\n",
      "w| oooooo\n",
      "u| ooooooooo\n",
      "k| acccnnnnnooo\n",
      "m| aiiiiiiiiiooooor\n",
      "h| cccccccggostttttttttt\n",
      "l| aaeeellllllllllllllllll\n",
      "g| nnnnnnnnnnnnnnnnnnnnnnnn\n",
      "f| iiiiiillllooooooooooooooooo\n",
      "o| dddddgosssssstttttttttttttttw\n",
      "y| aaaabddeeeefhlllllllllmmmmmmnnrrrrrrrrrr\n",
      "n| aaaaaaaaaaeeeeeeeeeeeeeeeeeeeiiiiiiiiiiiiiiiioooooooooooorw\n",
      "r|  aaaaaeeeeeeeeeeeeeeeeeeeeeeeeeeeeeeeeeeeeeeeeeeimmmmoooooooooooooouuuuuuuu\n",
      "d| aaaaaaaaaaaeeeeeeeeeeeeeeeeeeeeiiiiiilllllnnnnnnnnnnnnnnnnnnnnnnnnnnnnnnnnnnr\n",
      "s| aaaaaaaaaaaaaaaaaaaaaaaddddeeeeeeeeeeeeeeegiiiiiiiiiiiilnppprrrrrrrrrssttttuuyy’’’’’\n",
      "t| aaaaaaaaaaaaaaaaaaaaaaacccceeeeeehhhhhiiiiiiiiiiiiiiiiiiinnnnnooooooooorssssssssssssssuuuuuuuuuxx’’\n",
      "e| bbbbcccccccefggghhhhhhhhhhhhhhhhhhhhhhhhhhhhhhhhhhhhhhhhhhhhkklllllllllmmmmmmmmmpprrrrrrrrrrrrsssssssssssttttttttuuvvvvvvvvvvvvvvvvvvvvvwwwww\n"
     ]
    }
   ],
   "source": [
    "# looking at words in reverse. 'word' converts to bigram 'dr', stem 'd', leaf 'r'\n",
    "stem_text(source, caps=False, display=750, reverse=True, stop_words=EN, legend_pos=None);"
   ]
  },
  {
   "cell_type": "code",
   "execution_count": 6,
   "metadata": {},
   "outputs": [
    {
     "name": "stdout",
     "output_type": "stream",
     "text": [
      ": \n",
      "count     1200\n",
      "unique     781\n",
      "top       said\n",
      "freq        23\n",
      "Name: word, dtype: object\n",
      "sampled 1200\n",
      "\n",
      "a| bbccccccddddfffggilllllll\n",
      "a| mmnnnnnnnnnnnnnnnpppprrssssssssssstuwwww\n",
      "b| aaaaaaaaeeeeeeeeeeiiillllll\n",
      "b| ooooooooooorrrrrrrrrrruuuuuuuu\n",
      "c| aaaaaaaaaaaaaaaaaaaaaeeehhhhhhhhhhiiiiilllllllll\n",
      "c| oooooooooooooooooooooooooooooooooooooooorrrrrrrrrrrrruuuu\n",
      "d| aaaaaaeeeeeeeeeeeeeeeeeiiiiiiiiiiiiiiiii\n",
      "d| ooooooooooooorrrrrrrrrrué\n",
      "e| aaaaff\n",
      "e| nnnnnnnnnnnqtvvxxxxxyyyy\n",
      "f| aaaaaaaaaaaaaaaaaaaaaaaaaaaaaaaaeeeeeiiiiiiiiiiill\n",
      "f| oooooooooooooooorrrrrrrrrtu\n",
      "g| aaaaaeeeeeeiiiillllllllllll\n",
      "g| oooooooooorrrrrrrrr\n",
      "h| aaaaaaaaaaaaaaaaaaaaaaaaaaeeeeeeei\n",
      "h| oooooooooooooooooooooooooooooooooooooooouuuuuu\n",
      "i| dl\n",
      "i| mmmmmmmmnnnnnnnnnnnnnnrss\n",
      "j| aaa\n",
      "j| oouuu\n",
      "k| eiiiiii\n",
      "k| nnnnnnnnnn\n",
      "l| aaaaaaaeeeeeeeeeeeeeeeeeeeeeeeiiiiiiiiiiiiiiiiiiiiiiiiii\n",
      "l| oooooooooooooy\n",
      "m| aaaaaaaaaaaaaaaaaaaaaaaaaaaaaaaaeeeeeeeeiiiiiiiiiiiiiii\n",
      "m| oooooooooorrrrrrrrrrrrrrrrrrrrry\n",
      "n| aeeeeeeei\n",
      "n| ooooo\n",
      "o| bbbbbbbbbbccfffhhhhhhllll\n",
      "o| prsu’’\n",
      "p| aaaaaaaaaeeeeeeeeehillllllll\n",
      "p| ooooooooorrrrrrrrrrruuuuu\n",
      "q| uuuuuuuuuuu\n",
      "q| \n",
      "r|   eeeeeeeeeeeeeeeeeeeeeeeeeeeeeeiiiiiiiii\n",
      "r| ooooouuu\n",
      "s| aaaaaaaaaaaaaaaaaaaaaaaaaaaaaaaaaaaaaaaceeeeeeeeehhhhhhhhhhhhhiiiiiiiiiiillllllll\n",
      "s| mmmmnnnnoooooppppttttttttttttuuuuuuuuuuuuuuuuuuwwwy’’\n",
      "t| aaaaaaaaaaaaeeeeehhhhhhhhhhhhhhhhhiiiiiii\n",
      "t| oooooooorrrrrrrrrrrrrrrruwwyyyyyy\n",
      "u| nnnnnssssssss\n",
      "u| \n",
      "v| aeiii\n",
      "v| ooooouu\n",
      "w| aaaaaaaaaaaeeeeeeeeeeeeehhhiiiiiiiiiiiiii\n",
      "w| ooooooooooooooorrrrrrrr\n",
      "y| eeeeeeeeee\n",
      "y| o\n"
     ]
    }
   ],
   "source": [
    "rows, hm, df = stem_text(source, break_on='m', caps=False, display=1200, random_state=120,\n",
    "                         rows_only=False, sort_by='alpha', stop_words=EN);"
   ]
  },
  {
   "cell_type": "markdown",
   "metadata": {},
   "source": [
    "o followed by an apostrophe (’). Irish name?"
   ]
  },
  {
   "cell_type": "code",
   "execution_count": 7,
   "metadata": {},
   "outputs": [
    {
     "data": {
      "text/html": [
       "<div>\n",
       "<style scoped>\n",
       "    .dataframe tbody tr th:only-of-type {\n",
       "        vertical-align: middle;\n",
       "    }\n",
       "\n",
       "    .dataframe tbody tr th {\n",
       "        vertical-align: top;\n",
       "    }\n",
       "\n",
       "    .dataframe thead th {\n",
       "        text-align: right;\n",
       "    }\n",
       "</style>\n",
       "<table border=\"1\" class=\"dataframe\">\n",
       "  <thead>\n",
       "    <tr style=\"text-align: right;\">\n",
       "      <th></th>\n",
       "      <th>index</th>\n",
       "      <th>word</th>\n",
       "      <th>stem</th>\n",
       "      <th>leaf</th>\n",
       "      <th>ngram</th>\n",
       "    </tr>\n",
       "  </thead>\n",
       "  <tbody>\n",
       "    <tr>\n",
       "      <th>68</th>\n",
       "      <td>8287</td>\n",
       "      <td>o’clock</td>\n",
       "      <td>o</td>\n",
       "      <td>’</td>\n",
       "      <td>o’</td>\n",
       "    </tr>\n",
       "    <tr>\n",
       "      <th>524</th>\n",
       "      <td>9263</td>\n",
       "      <td>o’clock</td>\n",
       "      <td>o</td>\n",
       "      <td>’</td>\n",
       "      <td>o’</td>\n",
       "    </tr>\n",
       "  </tbody>\n",
       "</table>\n",
       "</div>"
      ],
      "text/plain": [
       "     index     word stem leaf ngram\n",
       "68    8287  o’clock    o    ’    o’\n",
       "524   9263  o’clock    o    ’    o’"
      ]
     },
     "execution_count": 7,
     "metadata": {},
     "output_type": "execute_result"
    }
   ],
   "source": [
    "df[df.word.str[:2]=='o’']"
   ]
  },
  {
   "cell_type": "markdown",
   "metadata": {},
   "source": [
    "Ah, o’clock. That explains it."
   ]
  }
 ],
 "metadata": {
  "kernelspec": {
   "display_name": "Python 3",
   "language": "python",
   "name": "python3"
  },
  "language_info": {
   "codemirror_mode": {
    "name": "ipython",
    "version": 3
   },
   "file_extension": ".py",
   "mimetype": "text/x-python",
   "name": "python",
   "nbconvert_exporter": "python",
   "pygments_lexer": "ipython3",
   "version": "3.6.3"
  }
 },
 "nbformat": 4,
 "nbformat_minor": 2
}
