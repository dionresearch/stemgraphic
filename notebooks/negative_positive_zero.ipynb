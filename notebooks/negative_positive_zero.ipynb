{
 "cells": [
  {
   "cell_type": "code",
   "execution_count": 1,
   "metadata": {},
   "outputs": [],
   "source": [
    "%matplotlib inline\n",
    "import pandas as pd\n",
    "from stemgraphic import stem_graphic, stem_text"
   ]
  },
  {
   "cell_type": "code",
   "execution_count": 2,
   "metadata": {},
   "outputs": [],
   "source": [
    "data = [-2, -0.5, -0.4,-0.1, 0.1, 0.6, 3, 4, 5, 5, 10]"
   ]
  },
  {
   "cell_type": "code",
   "execution_count": 3,
   "metadata": {},
   "outputs": [
    {
     "data": {
      "image/png": "[encoded data removed]",
      "text/plain": [
       "<Figure size 540x306 with 1 Axes>"
      ]
     },
     "metadata": {
      "needs_background": "light"
     },
     "output_type": "display_data"
    }
   ],
   "source": [
    "stem_graphic(data);"
   ]
  },
  {
   "cell_type": "code",
   "execution_count": 4,
   "metadata": {},
   "outputs": [
    {
     "name": "stdout",
     "output_type": "stream",
     "text": [
      "-2\n",
      "    ¡\n",
      " -2 | 0\n",
      " -1 |\n",
      " -0 | 541\n",
      "  0 | 16\n",
      "  1 |\n",
      "  2 |\n",
      "  3 | 0\n",
      "  4 | 0\n",
      "  5 | 00\n",
      "  6 |\n",
      "  7 |\n",
      "  8 |\n",
      "  9 |\n",
      " 10 | 0\n",
      "    !\n",
      "10\n",
      "Key: \n",
      "10|0 => 10.0x1.0 = 10.0 \n"
     ]
    }
   ],
   "source": [
    "stem_text(data)"
   ]
  },
  {
   "cell_type": "code",
   "execution_count": null,
   "metadata": {},
   "outputs": [],
   "source": []
  }
 ],
 "metadata": {
  "kernelspec": {
   "display_name": "Python [conda env:stem] *",
   "language": "python",
   "name": "conda-env-stem-py"
  },
  "language_info": {
   "codemirror_mode": {
    "name": "ipython",
    "version": 3
   },
   "file_extension": ".py",
   "mimetype": "text/x-python",
   "name": "python",
   "nbconvert_exporter": "python",
   "pygments_lexer": "ipython3",
   "version": "3.7.3"
  }
 },
 "nbformat": 4,
 "nbformat_minor": 2
}
