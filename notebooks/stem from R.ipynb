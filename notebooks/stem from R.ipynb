{
 "cells": [
  {
   "cell_type": "markdown",
   "metadata": {},
   "source": [
    "# stem from R\n",
    "\n",
    "There is a stem() function in R (as I pointed out in the companion brochure). But the output is not very helpful: not a histogram and not a stem-and-leaf plot due to the truncated nature (a bunch of zeros followed by a count). It also takes a while to load a csv and run it through stem, over 300 seconds or 5 minutes..."
   ]
  },
  {
   "cell_type": "code",
   "execution_count": 1,
   "metadata": {},
   "outputs": [
    {
     "name": "stdout",
     "output_type": "stream",
     "text": [
      "   user  system elapsed \n",
      "307.624   1.540 308.351 \n"
     ]
    }
   ],
   "source": [
    "start <- proc.time()\n",
    "taxi <- read.csv('yellow_tripdata_2015-01.csv',header=T)\n",
    "print(proc.time() - start)"
   ]
  },
  {
   "cell_type": "code",
   "execution_count": 2,
   "metadata": {},
   "outputs": [
    {
     "name": "stdout",
     "output_type": "stream",
     "text": [
      "\n",
      "  The decimal point is 5 digit(s) to the right of the |\n",
      "\n",
      "  -0 | 00000000000000000000000000000000000000000000000000000000000000000000+3987\n",
      "   0 | 00000000000000000000000000000000000000000000000000000000000000000000+12744838\n",
      "   2 | \n",
      "   4 | \n",
      "   6 | \n",
      "   8 | \n",
      "  10 | \n",
      "  12 | \n",
      "  14 | \n",
      "  16 | \n",
      "  18 | \n",
      "  20 | \n",
      "  22 | \n",
      "  24 | \n",
      "  26 | \n",
      "  28 | \n",
      "  30 | \n",
      "  32 | \n",
      "  34 | \n",
      "  36 | \n",
      "  38 | 5\n",
      "\n",
      "   user  system elapsed \n",
      "  4.284   0.044   4.316 \n"
     ]
    }
   ],
   "source": [
    "start <- proc.time()\n",
    "stem(taxi$total_amount)\n",
    "print(proc.time() - start)"
   ]
  },
  {
   "cell_type": "markdown",
   "metadata": {},
   "source": [
    "I have gotten a few requests to bring stemgraphic to R. If I get a customer or a corporation that wants to sponsor this in part, it will happen. At the moment, I do not have enough free time to do this. In the interim, you can use it through %%R magic in Jupyter notebook"
   ]
  },
  {
   "cell_type": "code",
   "execution_count": null,
   "metadata": {},
   "outputs": [],
   "source": []
  }
 ],
 "metadata": {
  "kernelspec": {
   "display_name": "R",
   "language": "R",
   "name": "ir"
  },
  "language_info": {
   "codemirror_mode": "r",
   "file_extension": ".r",
   "mimetype": "text/x-r-source",
   "name": "R",
   "pygments_lexer": "r",
   "version": "3.4.2"
  }
 },
 "nbformat": 4,
 "nbformat_minor": 2
}
